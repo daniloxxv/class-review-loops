{
 "cells": [
  {
   "cell_type": "markdown",
   "metadata": {},
   "source": [
    "# Loops\n",
    "\n",
    "The purpose of this notebook is to offer a quick recap of loops in Python. We'll then try to apply what we learned by solving a couple of code challenges."
   ]
  },
  {
   "cell_type": "markdown",
   "metadata": {},
   "source": [
    "## The `for` loop\n",
    "\n",
    "A `for` loop in Python will execute a block of code once for each element in an iterable. In each of those executions, a variable declared in the `for` statement will have the value of one of the elements in the iterable, until we reach the last element. \n",
    "\n",
    "Let's look at an example:"
   ]
  },
  {
   "cell_type": "code",
   "execution_count": null,
   "metadata": {},
   "outputs": [],
   "source": [
    "nums = [1,2,3,4,5]\n",
    "for num in nums:\n",
    "    print(num)"
   ]
  },
  {
   "cell_type": "markdown",
   "metadata": {},
   "source": [
    "Our loop ran five times, one for each element in `nums`, and in each of those executions our `num` variable had a different value.\n",
    "\n",
    "We can use a `for` loop to iterate over a set..."
   ]
  },
  {
   "cell_type": "code",
   "execution_count": null,
   "metadata": {},
   "outputs": [],
   "source": [
    "nums = {1,2,3,4,5}\n",
    "for num in nums:\n",
    "    print(num)"
   ]
  },
  {
   "cell_type": "markdown",
   "metadata": {},
   "source": [
    "A tuple..."
   ]
  },
  {
   "cell_type": "code",
   "execution_count": null,
   "metadata": {},
   "outputs": [],
   "source": [
    "nums = (1,2,3,4,5)\n",
    "for num in nums:\n",
    "    print(num)"
   ]
  },
  {
   "cell_type": "markdown",
   "metadata": {},
   "source": [
    "Or even a string:"
   ]
  },
  {
   "cell_type": "code",
   "execution_count": null,
   "metadata": {
    "scrolled": true
   },
   "outputs": [],
   "source": [
    "nums = '12345'\n",
    "for num in nums:\n",
    "    print(num)"
   ]
  },
  {
   "cell_type": "markdown",
   "metadata": {},
   "source": [
    "We might even use a `for` loop to iterate over a dictionary, although we might have to adapt things a little bit to get the result we want. "
   ]
  },
  {
   "cell_type": "code",
   "execution_count": null,
   "metadata": {},
   "outputs": [],
   "source": [
    "d = {'name':'Danilo','job':'TA','favorite language':'Python','favorite group':'Data Analytics'}\n",
    "for el in d:\n",
    "    print(el)"
   ]
  },
  {
   "cell_type": "markdown",
   "metadata": {},
   "source": [
    "### Using the `for` loop with ranges\n",
    "\n",
    "You can also use a `for` loop to iterate over a range of numbers. This is particularly useful when you want to execute a piece of coding a certain number of times:"
   ]
  },
  {
   "cell_type": "code",
   "execution_count": null,
   "metadata": {},
   "outputs": [],
   "source": [
    "for i in range(3):\n",
    "    print('Baby shark, doo doo doo doo doo doo...')\n",
    "print('Baby shark!')"
   ]
  },
  {
   "cell_type": "markdown",
   "metadata": {},
   "source": [
    "The numbers in the range can also be used as indexes in a list, for example. This is particularly useful if we're trying to compare two elements from different lists with the same size."
   ]
  },
  {
   "cell_type": "code",
   "execution_count": null,
   "metadata": {},
   "outputs": [],
   "source": [
    "gandalf = [10, 11, 13, 30, 22, 11, 10, 33, 22, 22]\n",
    "saruman = [23, 66, 12, 43, 12, 10, 44, 23, 12, 17]\n",
    "\n",
    "for i in range(len(gandalf)):\n",
    "    if gandalf[i] > saruman[i]:\n",
    "        print('Gandalf wins')\n",
    "    elif gandalf[i] < saruman[i]:\n",
    "        print('Saruman wins')\n",
    "    else:\n",
    "        print('It\\'s a tie')"
   ]
  },
  {
   "cell_type": "markdown",
   "metadata": {},
   "source": [
    "Although this may look very different from the previous `for` loop we saw, it's actually pretty much the same thing: we are generating a range of numbers and iterating over the values."
   ]
  },
  {
   "cell_type": "code",
   "execution_count": null,
   "metadata": {},
   "outputs": [],
   "source": []
  },
  {
   "cell_type": "markdown",
   "metadata": {},
   "source": [
    "### Using `for` with `enumerate`\n",
    "\n",
    "`range` is not the only built-in function which can help us write our `for` loops. `enumerate` can also be useful. What it does is add a counter to your iterable and increment it after each iteration. Let's see an example:"
   ]
  },
  {
   "cell_type": "code",
   "execution_count": null,
   "metadata": {},
   "outputs": [],
   "source": [
    "best_players = ['Ulises','Colombia','Ponce','Rodolfo','Emilio']\n",
    "for i, el in enumerate(best_players):\n",
    "    print(f'The #{i+1} best player is {el}.')"
   ]
  },
  {
   "cell_type": "markdown",
   "metadata": {},
   "source": [
    "We can also pass a second argument to `enumerate`, which will determine the starting point for our counter. "
   ]
  },
  {
   "cell_type": "code",
   "execution_count": null,
   "metadata": {},
   "outputs": [],
   "source": [
    "worst_players = ['Danilo','Oscar','Oswaldo (in memoriam)','Vania','Anahí']\n",
    "for i, el in enumerate(worst_players,1):\n",
    "    print(f'The #{i} worst player is {el}.')"
   ]
  },
  {
   "cell_type": "markdown",
   "metadata": {},
   "source": [
    "With `enumerate`, we now have another way of comparing the two arrays in the previous example:"
   ]
  },
  {
   "cell_type": "code",
   "execution_count": null,
   "metadata": {},
   "outputs": [],
   "source": [
    "gandalf = [10, 11, 13, 30, 22, 11, 10, 33, 22, 22]\n",
    "saruman = [23, 66, 12, 43, 12, 10, 44, 23, 12, 17]\n",
    "\n",
    "for i, el in enumerate(gandalf):\n",
    "    if el > saruman[i]:\n",
    "        print('Gandalf wins')\n",
    "    elif gandalf[i] < saruman[i]:\n",
    "        print('Saruman wins')\n",
    "    else:\n",
    "        print('It\\'s a tie')"
   ]
  },
  {
   "cell_type": "markdown",
   "metadata": {},
   "source": [
    "### `for` loop pitfalls\n",
    "\n",
    "Although `for` loops are relatively safe and easy to use, there are things we should avoid doing if we want to make sure our code works as expected. Mutating the list over which we are iterating, for example, can lead to weird behavior.\n",
    "\n",
    "Let's imagine we want to use a `for` loop to remove all odd numbers from a set, for example."
   ]
  },
  {
   "cell_type": "code",
   "execution_count": null,
   "metadata": {},
   "outputs": [],
   "source": [
    "nums = {0,1,2,3,4,5,6,7,8,9,10}\n",
    "\n",
    "for num in nums:\n",
    "    if num % 2 != 0:\n",
    "        nums.remove(num)\n",
    "print(nums)"
   ]
  },
  {
   "cell_type": "markdown",
   "metadata": {},
   "source": [
    "You can expect the same behavior when iterating over a dictionary:"
   ]
  },
  {
   "cell_type": "code",
   "execution_count": null,
   "metadata": {},
   "outputs": [],
   "source": [
    "d = {'name':'Danilo','job':'TA','favorite language':'Python','favorite group':'Data Analytics'}\n",
    "for el in d:\n",
    "    if el == 'name':\n",
    "        del(d[el])\n",
    "print(d)"
   ]
  },
  {
   "cell_type": "markdown",
   "metadata": {},
   "source": [
    "Lists will behave in a more predictable manner, but they can also lead to issues if you're mutating them during iteration. Running the following piece of code, for example, would lead to catastrophic results. Can you guess why?"
   ]
  },
  {
   "cell_type": "code",
   "execution_count": null,
   "metadata": {},
   "outputs": [],
   "source": [
    "#don't try this at home\n",
    "nums = [1]\n",
    "for num in nums:\n",
    "    nums.append(num+1)\n",
    "print(nums)"
   ]
  },
  {
   "cell_type": "markdown",
   "metadata": {},
   "source": [
    "To be on the safe side, the best course of action is to avoid mutating the iterable during iteration. If you need to output a changed iterable, you can also create a new iterable and add values to it during the loop."
   ]
  },
  {
   "cell_type": "markdown",
   "metadata": {},
   "source": [
    "## The `while` loop\n",
    "\n",
    "The syntax of a `while` loop in Python is pretty straightforward. It received an expression as a condition and will continue executing while the expression evaluates to `True`.\n",
    "\n",
    "\n",
    "In the following example, the loop will execute five times and update the value of `n` in every turn. "
   ]
  },
  {
   "cell_type": "code",
   "execution_count": null,
   "metadata": {},
   "outputs": [],
   "source": [
    "n = 0\n",
    "while n < 5:\n",
    "    print(n)\n",
    "    n += 1"
   ]
  },
  {
   "cell_type": "markdown",
   "metadata": {},
   "source": [
    "As you can see, once `n < 5` becomes `False`, our code stopped being executed.\n",
    "\n",
    "The main danger of the `while` loop is that our code runs the risk of executing itself forever if we're not careful. Let's imagine we forget to add the `i+=1` line to our previous block of code. Can you imagine what will happen? "
   ]
  },
  {
   "cell_type": "code",
   "execution_count": null,
   "metadata": {},
   "outputs": [],
   "source": [
    "#There's a STOP button on the Jupyter toolbar. You'll need to use it if you run this block of code \n",
    "n = 0\n",
    "while n < 5:\n",
    "    print(n)"
   ]
  },
  {
   "cell_type": "markdown",
   "metadata": {},
   "source": [
    "Infinite loops can be particularly problematic if you are performing a costly operation. Can you imagine what would happen if we were doing API calls within that block of code, for example? Every time you're working with a `while` loop, it's important to double-check your code to make sure that the condition will become false at some point. \n",
    "\n",
    "\n",
    "The condition doesn't necessarily needs to rely on the value of a variable: anything that can be evaluated to `True` or `False` could be used. The following block of code, for example, will calculate the first 100 numbers in the Fibonacci sequence. Do you think it can be executed safely or will it generate an infinite loop?"
   ]
  },
  {
   "cell_type": "code",
   "execution_count": null,
   "metadata": {},
   "outputs": [],
   "source": [
    "fib_list = [0,1]\n",
    "while len(fib_list) < 100:\n",
    "    fib_list.append(fib_list[-1] + fib_list[-2])\n",
    "print(fib_list)"
   ]
  },
  {
   "cell_type": "markdown",
   "metadata": {},
   "source": [
    "It looks like we're safe. The length of the list kept growing with each `append`, until it eventually reaches 100. \n",
    "\n",
    "Remember: the expression that we use as the condition for the execution of a `while` loop needs to be evaluated to a boolean value -- otherwise we might run into trouble. The following block of code, for example, would cause an infinite loop:"
   ]
  },
  {
   "cell_type": "code",
   "execution_count": null,
   "metadata": {
    "scrolled": false
   },
   "outputs": [],
   "source": [
    "#Don't run this \n",
    "while 'hola':\n",
    "    print('hola')"
   ]
  },
  {
   "cell_type": "markdown",
   "metadata": {},
   "source": [
    "Since `hola` is not an empty string, it is evaluated as `True` by Python and the condition to stop the loop will never be reached.\n",
    "\n",
    "As long as we avoid this pitfalls, however, the `while` loop is a valuable tool in our Python toolbelt. It can be particularly helpful when we don't know how many times we'll need to execute a certain operation. A classic example is user input validation. Let's create a function that will receive a number as input from the user and determine whether the number is even or odd. We'll want to filter out input to make sure it's a number. SInce we don't know how many times the user will input an invalid value, a `for` loop wouldn't cut it."
   ]
  },
  {
   "cell_type": "code",
   "execution_count": null,
   "metadata": {},
   "outputs": [],
   "source": [
    "num = input('Please choose a number:\\n')\n",
    "while (not num.isnumeric()):\n",
    "    num = input('Please choose a valid number:\\n')\n",
    "if int(num) % 2 == 0:\n",
    "    print('Even')\n",
    "else:\n",
    "    print('Odd')"
   ]
  },
  {
   "cell_type": "markdown",
   "metadata": {},
   "source": [
    "## Using `break` and `continue`:\n",
    "\n",
    "The `break` and `continue` keywords give us even more control over our loops. `break` can be used to interrupt a loop. Suppose we want to create a loop to find the word `Waldo` in a list. Assuming there's only one Waldo, there's no point in continuing the loop once we found him. We can use `break` to interrupt our search and make our code more efficient."
   ]
  },
  {
   "cell_type": "code",
   "execution_count": null,
   "metadata": {},
   "outputs": [],
   "source": [
    "names = ['Pancho','Fredo','Luca','Waldo','Michelle','Ofelio','Pepe','Guadalupe']\n",
    "for name in names:\n",
    "    print(name)\n",
    "    if name == 'Waldo':\n",
    "        break\n"
   ]
  },
  {
   "cell_type": "markdown",
   "metadata": {},
   "source": [
    "A `break` statement can also be used to interrupt a loop that would otherwise run infinitely. Let's look again at our unfortunate incident with a mutating list:"
   ]
  },
  {
   "cell_type": "code",
   "execution_count": null,
   "metadata": {},
   "outputs": [],
   "source": [
    "nums = [1]\n",
    "for num in nums:\n",
    "    nums.append(num+1)\n",
    "    if len(nums) == 1000:\n",
    "        print('I think we\\'ve seen enough')\n",
    "        break\n",
    "print(nums)"
   ]
  },
  {
   "cell_type": "markdown",
   "metadata": {},
   "source": [
    "The `continue` keyword can be used to skip the current iteration of our loop and jump to the next one. Let's say we want to print only the even numbers in a list. `continue` can help us do that."
   ]
  },
  {
   "cell_type": "code",
   "execution_count": null,
   "metadata": {
    "scrolled": true
   },
   "outputs": [],
   "source": [
    "nums = list(range(20))\n",
    "for num in nums:\n",
    "    if num % 2 != 0:\n",
    "        continue\n",
    "    print(num)"
   ]
  },
  {
   "cell_type": "markdown",
   "metadata": {},
   "source": [
    "`continue` can be used to avoid errors. Imagine you want to multiply the numbers in a list, but you're not sure if all of items in the list are numbers. `continue` allows us to skip those values without interrupting our loop."
   ]
  },
  {
   "cell_type": "code",
   "execution_count": null,
   "metadata": {},
   "outputs": [],
   "source": [
    "not_all_nums = ['pancho',1,2,'Waldo',None,3,['Mira, una lista con un string adentro'],4,5]\n",
    "result = 1\n",
    "for num in not_all_nums:\n",
    "    if not isinstance(num, int):\n",
    "        continue\n",
    "    result *= num\n",
    "print(result)"
   ]
  },
  {
   "cell_type": "markdown",
   "metadata": {},
   "source": [
    "### BONUS\n",
    "\n",
    "Coding challenges:\n",
    "\n",
    "https://www.codewars.com/kata/factorial-1/train/python\n",
    "\n",
    "https://www.codewars.com/kata/fizz-buzz/train/python\n",
    "\n",
    "https://www.codewars.com/kata/collatz/train/python\n"
   ]
  },
  {
   "cell_type": "code",
   "execution_count": null,
   "metadata": {},
   "outputs": [],
   "source": []
  }
 ],
 "metadata": {
  "kernelspec": {
   "display_name": "Python 3",
   "language": "python",
   "name": "python3"
  },
  "language_info": {
   "codemirror_mode": {
    "name": "ipython",
    "version": 3
   },
   "file_extension": ".py",
   "mimetype": "text/x-python",
   "name": "python",
   "nbconvert_exporter": "python",
   "pygments_lexer": "ipython3",
   "version": "3.7.3"
  }
 },
 "nbformat": 4,
 "nbformat_minor": 2
}
